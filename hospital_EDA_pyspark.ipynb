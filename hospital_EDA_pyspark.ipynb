{
 "cells": [
  {
   "cell_type": "markdown",
   "id": "25ced65f-f57f-4423-bdf7-22fe7685fcd3",
   "metadata": {},
   "source": [
    "## about the data set\n",
    "#### There has been a revenue decline in a Portuguese Bank and they would like to know what actions to take. After investigation, they found that the root cause was that their customers are not investing enough for long term deposits. So the bank would like to identify existing customers that have higher chance to subscribe for a long term deposit and focus marketing efforts on such customers.\n",
    "\n",
    "#### link to the dataset: https://www.kaggle.com/code/rashmiranu/banking-dataset-eda-and-binary-classification"
   ]
  },
  {
   "cell_type": "markdown",
   "id": "27d8b316-faf8-408c-a935-9afdac422bf7",
   "metadata": {},
   "source": [
    "### importing the data set from kaggle and exctrion"
   ]
  },
  {
   "cell_type": "code",
   "execution_count": null,
   "id": "fbddfa5c-10a3-4495-9058-6cd6ca5966d7",
   "metadata": {},
   "outputs": [],
   "source": [
    "!pip install kaggle\n",
    "import kaggle \n",
    "!kaggle datasets downloadrashmiranu/banking-dataset-eda-and-binary-classification -f new_train.csv\n",
    "                                                "
   ]
  },
  {
   "cell_type": "markdown",
   "id": "cdbf8ecf-3bfd-49bb-972a-6166e9037d15",
   "metadata": {},
   "source": [
    "## installing pyspark"
   ]
  },
  {
   "cell_type": "code",
   "execution_count": 1,
   "id": "65065460-8d01-4607-8199-303f0fa1ef41",
   "metadata": {},
   "outputs": [
    {
     "name": "stdout",
     "output_type": "stream",
     "text": [
      "Requirement already satisfied: pyspark in c:\\users\\capaciti\\anaconda3\\lib\\site-packages (3.5.1)\n",
      "Requirement already satisfied: py4j==0.10.9.7 in c:\\users\\capaciti\\anaconda3\\lib\\site-packages (from pyspark) (0.10.9.7)\n"
     ]
    }
   ],
   "source": [
    "!pip install pyspark"
   ]
  },
  {
   "cell_type": "markdown",
   "id": "4347b6d7-50e8-4135-ba92-a042782ce0ab",
   "metadata": {},
   "source": [
    "## creating a spark session "
   ]
  },
  {
   "cell_type": "code",
   "execution_count": null,
   "id": "45b9119c-4a27-4a23-b6c1-bb4256a50d1d",
   "metadata": {},
   "outputs": [],
   "source": [
    "from pyspark.sql import SparkSession\n",
    "spark = SparkSession.builder.appName('BankingApp').getOrCreate()"
   ]
  },
  {
   "cell_type": "markdown",
   "id": "a112782c-f777-4509-afef-42ae3bee2ce7",
   "metadata": {},
   "source": [
    "### checking the spork session app information "
   ]
  },
  {
   "cell_type": "code",
   "execution_count": null,
   "id": "925c37b8-502c-4242-897a-92f96feac15d",
   "metadata": {},
   "outputs": [],
   "source": [
    "print(spark)"
   ]
  },
  {
   "cell_type": "code",
   "execution_count": null,
   "id": "611f7de4-f583-4644-aafe-70a50b0718e5",
   "metadata": {},
   "outputs": [],
   "source": []
  },
  {
   "cell_type": "code",
   "execution_count": null,
   "id": "800d78ad-4fe1-4b42-9679-884fe91c6166",
   "metadata": {},
   "outputs": [],
   "source": []
  },
  {
   "cell_type": "code",
   "execution_count": null,
   "id": "08b5502e-1262-49f6-911b-13901301b7c9",
   "metadata": {},
   "outputs": [],
   "source": []
  },
  {
   "cell_type": "code",
   "execution_count": null,
   "id": "82238c09-59d1-445e-ad2b-6ccaa7ec408f",
   "metadata": {},
   "outputs": [],
   "source": []
  },
  {
   "cell_type": "code",
   "execution_count": null,
   "id": "1a9a6b77-854a-48c1-83eb-781c40e46dbd",
   "metadata": {},
   "outputs": [],
   "source": []
  },
  {
   "cell_type": "code",
   "execution_count": null,
   "id": "1a4fa9fc-21fc-457b-9d84-ed0fdd2d70f2",
   "metadata": {},
   "outputs": [],
   "source": []
  },
  {
   "cell_type": "code",
   "execution_count": null,
   "id": "6e85efcd-0b02-4091-9e95-ee735de258e6",
   "metadata": {},
   "outputs": [],
   "source": []
  }
 ],
 "metadata": {
  "kernelspec": {
   "display_name": "Python 3 (ipykernel)",
   "language": "python",
   "name": "python3"
  },
  "language_info": {
   "codemirror_mode": {
    "name": "ipython",
    "version": 3
   },
   "file_extension": ".py",
   "mimetype": "text/x-python",
   "name": "python",
   "nbconvert_exporter": "python",
   "pygments_lexer": "ipython3",
   "version": "3.11.7"
  }
 },
 "nbformat": 4,
 "nbformat_minor": 5
}
